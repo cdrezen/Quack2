{
 "metadata": {
  "language_info": {
   "codemirror_mode": {
    "name": "ipython",
    "version": 3
   },
   "file_extension": ".py",
   "mimetype": "text/x-python",
   "name": "python",
   "nbconvert_exporter": "python",
   "pygments_lexer": "ipython3",
   "version": "3.7.8"
  },
  "orig_nbformat": 2,
  "kernelspec": {
   "name": "python378jvsc74a57bd057baa5815c940fdaff4d14510622de9616cae602444507ba5d0b6727c008cbd6",
   "display_name": "Python 3.7.8 64-bit"
  }
 },
 "nbformat": 4,
 "nbformat_minor": 2,
 "cells": [
  {
   "source": [
    "# <center>TITRE - Projet Python</center>\n",
    "\n",
    "## Membres:\n",
    "* Corentin Drezen - 40007337, TD2\n",
    "* Nathanael NOM - N°ETUDIANT, TD1\n",
    "* Irfane NOM - N°ETUDIANT, TD2\n",
    "\n",
    "## Introduction:\n",
    "On souhaite réaliser un jeu du sytle <i>shoot them up</i> en 2D à l'aide du module $\\color{#B267E6}{\\text{pygame}}$ avec le personnage principal qui suit la souris\n",
    "\n",
    "<img src=\"SpaceInvaders-Gameplay.gif\">\n"
   ],
   "cell_type": "markdown",
   "metadata": {}
  },
  {
   "cell_type": "code",
   "execution_count": null,
   "metadata": {},
   "outputs": [],
   "source": [
    "import pygame"
   ]
  },
  {
   "source": [
    "## Timers\n",
    "Le jeu a besoin de gérer plusieurs delais afin de réaliser le rendu graphique et certaines mécaniques.\n",
    "\n",
    "Les jeux pygame fonctionent avec une boucle `while` 'infinie' car le systeme d'évenements est uniquement utilisable avec une fonction `pygame.event.get()` qui retourne une liste d'évenements."
   ],
   "cell_type": "markdown",
   "metadata": {}
  },
  {
   "cell_type": "code",
   "execution_count": null,
   "metadata": {},
   "outputs": [],
   "source": [
    "def main():\n",
    "    #...\n",
    "    while leJeuTourne:\n",
    "        #...\n",
    "        for event in pygame.event.get():\n",
    "            #..."
   ]
  },
  {
   "source": [
    "Le programme va s'éxécuter aussi vite qu'il peut mais un écran ne peut afficher que 60 à 144 images/secondes aujourd'hui et les appels au fonctions graphique incéssantes pouraient ralentir le jeu. Donc on a besoin d'un délai mais on ne veut pas bloquer le programme.\n",
    "\n",
    "Alors on utilise les timers intégrés dans le module pygame qui fonctionent en parallèle et peuvents être utilisé avec son sytème d'évenements\n",
    "\n",
    "<br>\n",
    "On commence par définir les identifiants de nos propres évenements:"
   ],
   "cell_type": "markdown",
   "metadata": {}
  },
  {
   "cell_type": "code",
   "execution_count": null,
   "metadata": {},
   "outputs": [],
   "source": [
    "AFFICHAGE_TIMER_EVENT = pygame.USEREVENT + 0 #évenement pour l'affichage\n",
    "DELAY_TIRE_EVENT = pygame.USEREVENT + 2 #évenement pour avoir un délai entre chaque tir du personnage\n",
    "SPAWN_TIMER_EVENT = pygame.USEREVENT + 3 #évenment pour l'apparition des ennemis"
   ]
  },
  {
   "source": [
    "D'après le wiki il faut que ce soit des `int` compris entre `pygame.USEREVENT` (=24) et `pygame.NUMEVENTS - 1` (=32). - *\"User defined events should have a value in the inclusive range of USEREVENT to NUMEVENTS - 1. It is recommended all user events follow this system.\"*\n",
    "\n",
    "On doit ensuite appeler `pygame.time.set_timer(`***identifiant*** (int)`,` ***délai*** (int)`,` optionel: ***une_fois***=False`)` là où on souhaite lancer le timer. Elle déclanchera un évenement après chaque 'pauses'."
   ],
   "cell_type": "markdown",
   "metadata": {}
  },
  {
   "cell_type": "code",
   "execution_count": null,
   "metadata": {},
   "outputs": [],
   "source": [
    "def main():\n",
    "    #...\n",
    "    pygame.time.set_timer(AFFICHAGE_TIMER_EVENT, int(1000/fps)) "
   ]
  },
  {
   "source": [
    "Ici on utlise `int(1000/`**fps**`)` comme valeur pour le délai afin d'avoir une valeur relative à 'fps' (pour frames par secondes). Si 'fps' est égal à 60 on obtient 60 évenements `AFFICHAGE_TIMER_EVENT` par secondes: 1 toutes les ~17 ms.\n",
    "\n",
    "Dans la boucle qui itère parmis tout les évenements on 'filtre' notre `AFFICHAGE_TIMER_EVENT` et on peut ainsi appelé notre fonction d'affichage/dessin/'peinture' à intervale régulier."
   ],
   "cell_type": "markdown",
   "metadata": {}
  },
  {
   "cell_type": "code",
   "execution_count": null,
   "metadata": {},
   "outputs": [],
   "source": [
    "#...\n",
    "while leJeuTourne:\n",
    "    #...\n",
    "    for event in pygame.event.get():\n",
    "        \n",
    "        if event.type == AFFICHAGE_TIMER_EVENT:\n",
    "            #...changer quelque chose juste avant le rafraichisement..\n",
    "            Affichage()"
   ]
  },
  {
   "source": [
    "## Affichage"
   ],
   "cell_type": "markdown",
   "metadata": {}
  },
  {
   "source": [
    "## Déplacements\n",
    "\n",
    "Les déplacements des acteurs du jeu son gérés dans leur `class` (Nafaire) avec la fonction `déplacement(`***x*** (int)`,` ***y*** (int)`)`.\n",
    "\n",
    "`class` Nafaire:\n"
   ],
   "cell_type": "markdown",
   "metadata": {}
  },
  {
   "cell_type": "code",
   "execution_count": null,
   "metadata": {},
   "outputs": [],
   "source": [
    "class Nafaire:\n",
    "    def __init__(self, position=(0,0), animation=None, (...), vitesseX=0.1, vitesseY=0.1, rect=None):\n",
    "        \n",
    "        self.x , self.y = position\n",
    "        self.anciennePos = position\n",
    "        self.animation = animation\n",
    "        #...   \n",
    "        self.vitesseX = vitesseX\n",
    "        self.vitesseY = vitesseY    \n",
    "        #...\n",
    "\n",
    "    def deplacement(self, x, y):\n",
    "        #...\n",
    "\n",
    "    def detectCollisions(self):\n",
    "        #..."
   ]
  },
  {
   "source": [
    "Cette `class` a plusieurs propriétés et arguments:\n",
    "- `position` (tuple), de simples coordonées dans la fenêtre du jeu. Elles sont ensuite distribuées dans les propriétés ***x*** et ***y***\n",
    "- `anciennePos` (tuple), elle sert à garder l'ancienne position en mémoire après un déplacement. Elle a la même valeur que `position` à l'initialisation de l'objet.\n",
    "- `vitesseX` (float) et `vitesseY` (float), ce ne sont pas vraiment des vitesses de physique '*v = d/t*' mais des multiplicateurs qui permettent un déplacement plus ou moins conséquents.\n",
    "- `rect` (pygame.Rect), un type d'objet qui sert a dessiner une image rectangulaire avec les propriétés comme ***haut***, ***bas***, ***gauche***, ***droite*** ou encore ***centre*** avec pygame.\n",
    "- `animation` (list), une liste de pygame.Surface (images), chaque frames d'animation de l'acteur. Leurs dimentions doivent être constantes.\n",
    "\n",
    "Ces valeurs sont utilisées dans la fonction `déplacement(`***x*** (int)`,` ***y*** (int)`)`:"
   ],
   "cell_type": "markdown",
   "metadata": {}
  },
  {
   "cell_type": "code",
   "execution_count": null,
   "metadata": {},
   "outputs": [],
   "source": [
    "def deplacement(self, x, y):\n",
    "        self.anciennePos = (self.x, self.y)\n",
    "        self.x += x * self.vitesseX\n",
    "        self.y += y * self.vitesseY\n",
    "        self.rect = self.animation[0].get_rect(center=(self.x, self.y))\n",
    "\n",
    "        self.detectCollisions()"
   ]
  },
  {
   "source": [
    "A chaque fois que la fonction est appelée les arguments ***x*** et ***y***, qui peuvent avoir des valeurs négatives, sont multipliés par leurs 'vitesses' respectives puis ajoutés aux propriétés ***self.x*** et ***self.y***. Ce qui donne l'illusion de mouvement car cette fonction est appelée très régulièrement et met à jour les valeurs utilisées par la fonction d'affichage. \n",
    "\n",
    "La propriété ***rect*** est mis à jour avec la fonction `get_rect()` de l'objet `pygame.Surface` (image dans pygame). C'est elle qui servira à placer l'acteur lors de l'affichage car ce type d'objet est plus pratique que de simples coordonnées. Sa propriété ***centre*** permettra de placer l'acteur sur un point à partir de son centre facilement au lieu le placer à partir de son 'haut gauche'.\n",
    "\n",
    "L'ancienne position est conservé lors du déplacement car elle servira à gérer les collisions.\n",
    "\n",
    "La fonction `.detectCollisions()` qui sert a trouver des collisions est appelée ici car c'est seulement après un déplacement qu'il peut y avoir une collisions avec un autre acteur.\n",
    "\n",
    "<br>\n",
    "Les déplacement du personnage sont effectué lorsque l'utlisateur appuie, relache, ou reste appuyé sur les touches Z, Q, S, et D.\n",
    "\n",
    "Pour détécter ces entrés au clavier on se sert les évenement pygame:\n",
    " - `KEYDOWN`, qui permet de savoir quand une touche est enfoncée\n",
    " - `KEYUP`, qui permet de savoir quand une touche est relaché\n",
    "\n",
    " Afin de recevoir plusieurs évenement `KEYDOWN` à intervale régulier pendant qu'une touche reste enfoncée avec pygame on doit utiliser la fonction `pygame.key.set_repeat(`***délai*** (int)`,` ...`)` au début du programme qui peut prendre un ou plusieurs arguments dont le délai que l'on souhaite avoir entre chaque évenement `KEYDOWN`."
   ],
   "cell_type": "markdown",
   "metadata": {}
  },
  {
   "cell_type": "code",
   "execution_count": null,
   "metadata": {},
   "outputs": [],
   "source": [
    "#...\n",
    "def main():  \n",
    "    #...\n",
    "\n",
    "    pygame.key.set_repeat(int(1000/fps))#permet d'avoir des evenements pour les touches qui restent appuyées, avec un délai pour éviter de bloquer le programme\n",
    "    \n",
    "    keysDown = None\n",
    "\n",
    "    while leJeuTourne:\n",
    "\n",
    "        ###gestion des evenements:\n",
    "        for event in pygame.event.get():\n",
    "\n",
    "            #...gestion d'autres évenements...\n",
    "\n",
    "            elif event.type == pygame.KEYDOWN or event.type == pygame.KEYUP:\n",
    "                keysDown = pygame.key.get_pressed()\n",
    "\n",
    "            #...gestion d'autres évenements..."
   ]
  },
  {
   "source": [
    "On utilise la fonction pygame `pygame.key.get_pressed()` qui retourne une liste des touches enfoncées au moment où elle est appelée. Cette liste sera utlisé au moment de l'affichage (cf Timers) car on ne veut pas de déplacements constants qui bloquerai le programme et qui ne serai visibles qu'au moment du rafraichissement au final.\n",
    "\n",
    "On déplace le personnage au moment de l'affichage si des touches sont enfoncés."
   ],
   "cell_type": "markdown",
   "metadata": {}
  },
  {
   "cell_type": "code",
   "execution_count": null,
   "metadata": {},
   "outputs": [],
   "source": [
    "    #...\n",
    "    while leJeuTourne:\n",
    "\n",
    "        ###gestion des evenements:\n",
    "        for event in pygame.event.get():\n",
    "\n",
    "            #...gestion d'autres évenements...\n",
    "            \n",
    "            elif event.type == AFFICHAGE_TIMER_EVENT:\n",
    "            \n",
    "                #gestion des déplacement à l'évenement d'affichage pour eviter de bloquer l'affichage ou la file d'évenements avec des déplacements constants\n",
    "                if(keysDown != None):\n",
    "\n",
    "                    tmpDeplacementJoueur = dim(0, 0)\n",
    "       \n",
    "                    if keysDown[pygame.K_z]:             \n",
    "                        tmpDeplacementJoueur.y -= 1\n",
    "                    if keysDown[pygame.K_s]:\n",
    "                        tmpDeplacementJoueur.y += 1\n",
    "                    if keysDown[pygame.K_q]:\n",
    "                        tmpDeplacementJoueur.x -= 1\n",
    "                    if keysDown[pygame.K_d]:                \n",
    "                        tmpDeplacementJoueur.x += 1  \n",
    "                    ###...autres touches\n",
    "                \n",
    "                    if(tmpDeplacementJoueur.x != 0 or tmpDeplacementJoueur.y != 0):\n",
    "                        Joueur.deplacement(tmpDeplacementJoueur.x, tmpDeplacementJoueur.y)\n",
    "\n",
    "                    keysDown = None\n",
    "\n",
    "                #...\n",
    "\n",
    "                Affichage()"
   ]
  },
  {
   "source": [
    "## Colisions\n",
    "Afin d'empécher que les acteurs du jeu se traversent et que le joueur puisse sortir de la scène il faut un système de collision.\n",
    "\n",
    "pygame ne gère pas les collisions mais le type `pygame.Rect` possède une fonction `.colliderect(`***rect*** (pygame.Rect)`)` qui retourne un `bool` qui permet de savoir si un rectangle est superposé sur un autre rectangle ou non.\n",
    "\n",
    "Suivant les types d'acteur (`Nafaire`) on va chercher à détecter des collisions avec différent type d'autre acteur.\n",
    "Pour différencier les type d'acteur et que l'objet soit 'conscient' de son 'type' on va utiliser une nouvelle propriété `self.type` comparable avec un enum. La class `enum` est présente depuis la version 3.4 de python.\n",
    "\n",
    "Puis pour avoir une meilleur lisibilité et pour pouvoir agir en fonction des collisions entre différent type d'acteur dans le code pricipale on va définir un nouvelle évenement pygame `COLLISION_EVENT` qui sera déclenchable avec la fonction `pygame.event.post(`***event*** (pygame.event.Event)`)`."
   ],
   "cell_type": "markdown",
   "metadata": {}
  },
  {
   "cell_type": "code",
   "execution_count": null,
   "metadata": {},
   "outputs": [],
   "source": [
    "from enum import Enum\n",
    "#...\n",
    "COLLISION_EVENT = pygame.USEREVENT + 1 # définition de l'identifiant d'évenement des collisions\n",
    "#...\n",
    "class NafaireTypes(Enum):\n",
    "    DEFAULT = 0 # valeur par défault utilisé par la class Nafaire si on ne lui donne pas de type\n",
    "    JOUEUR = 1\n",
    "    ENNEMI = 2\n",
    "    BALLE = 3\n"
   ]
  },
  {
   "source": [
    "Dans la fonction `Nafaire.detectCollisions()` on va tout d'abord tester si l'acteur est parti en dehors de la scene peut importe le type car on va vouloir détruire ou replacer l'objet si il n'est plus visible. Pour ça on compare ses coordonnées aux dimentions de la scène.\n",
    "\n"
   ],
   "cell_type": "markdown",
   "metadata": {}
  },
  {
   "cell_type": "code",
   "execution_count": null,
   "metadata": {},
   "outputs": [],
   "source": [
    "def detectCollisions(self):\n",
    "\n",
    "        if(self.x < 0 or self.x > dimentions.x or self.y < 0 or self.y > dimentions.y):\n",
    "            #..."
   ]
  },
  {
   "source": [
    "Si l'une d'elle est hors champs on déclenche notre évenement `COLLISION_EVENT` avec comme argument ***source***: *l'acteur lui même (`self` (`Nafaire`))* qui trouve la collision, et ***collision***: *rien* (`None`) (un `Nafaire` aussi en temps normal)\n",
    "\n",
    "Un objet de type `pygame.event.Event` peut être initialisé avec plusieurs arguments personalisés. On l'initialise ici ainsi: `pygame.event.Event(`***identifiant*** (int)`,` ***argument*** (object)`,` ***argument1*** (object)`)`. Puis on l'envoie dans la file d'évenement avec `pygame.event.post()`. L'évenement pourra ainsi être traité dans la boucle principale."
   ],
   "cell_type": "markdown",
   "metadata": {}
  },
  {
   "cell_type": "code",
   "execution_count": null,
   "metadata": {},
   "outputs": [],
   "source": [
    "pygame.event.post(pygame.event.Event(COLLISION_EVENT, source=self, collision=None))"
   ]
  },
  {
   "source": [
    "On va ensuite éffectuer une sorte de switch (pas encore présent en python) suivant le type d'acteur. On n'arrête pas la fonction si il y a une collision avec la bordure car il peut aussi y avoir une collision avec un acteur en même temps."
   ],
   "cell_type": "markdown",
   "metadata": {}
  },
  {
   "cell_type": "code",
   "execution_count": null,
   "metadata": {},
   "outputs": [],
   "source": [
    "def detectCollisions(self):\r\n",
    "\r\n",
    "        if(self.x < 0 or self.x > dimentions.x or self.y < 0 or self.y > dimentions.y):\r\n",
    "        #...\r\n",
    "\r\n",
    "        if(self.type == NafaireTypes.JOUEUR):\r\n",
    "            #...\r\n",
    "        elif(self.type == NafaireTypes.ENNEMI):\r\n",
    "            #...\r\n",
    "        elif(self.type == NafaireTypes.BALLE):\r\n",
    "            #..."
   ]
  },
  {
   "source": [
    "Si on cherche des collisions depuis un acteur de type `JOUEUR` on s'intéresse uniquement au collisions avec les ennemies et le cadre. Donc on va itérer dans tout les ennemies et tester si le rectangle du joueur est en parti inclus dans un rectangle des ennemies.\n",
    "Si le test est vrai on envoie un evenement `COLLISION_EVENT` avec comme arguments `source=self` (joueur (`Nafaire`)) et ` collision=enemi` (`Nafaire`)."
   ],
   "cell_type": "markdown",
   "metadata": {}
  },
  {
   "cell_type": "code",
   "execution_count": null,
   "metadata": {},
   "outputs": [],
   "source": [
    "#...\n",
    "if(self.type == NafaireTypes.JOUEUR):\n",
    "               \n",
    "    for enemi in enemies:\n",
    "        if self.rect.colliderect(enemi.rect): \n",
    "            pygame.event.post(pygame.event.Event(COLLISION_EVENT, source=self, collision=enemi))"
   ]
  },
  {
   "source": [
    "On ferra de même pour les acteurs de type `BALLE` sauf que l'on utilisera un `break` pour briser l'itération car on ne veut pas qu'elles touchent plusieurs enemies en même temps.\n",
    "\n",
    "Si l'acteur est de type `ENNEMI` on va simplement tester si il rentre en collision avec le joueur. Donc on a juste à rajouter un `and` dans le `if` puis envoyer l'évenement si le test est vrai. Si l'acteur n'est pas de type `ENNEMI` le `and` ne sera pas executé:"
   ],
   "cell_type": "markdown",
   "metadata": {}
  },
  {
   "cell_type": "code",
   "execution_count": null,
   "metadata": {},
   "outputs": [],
   "source": [
    "elif(self.type == NafaireTypes.ENNEMI and self.rect.colliderect(Joueur.rect)): \n",
    "    pygame.event.post(pygame.event.Event(COLLISION_EVENT, source=self, collision=Joueur))"
   ]
  },
  {
   "source": [
    "Voici le code complet de la fonction:"
   ],
   "cell_type": "markdown",
   "metadata": {}
  },
  {
   "cell_type": "code",
   "execution_count": null,
   "metadata": {},
   "outputs": [],
   "source": [
    "def detectCollisions(self):\n",
    "\n",
    "        if(self.x < 0 or self.x > dimentions.x or self.y < 0 or self.y > dimentions.y): #si l'acteur part hors champs\n",
    "            pygame.event.post(pygame.event.Event(COLLISION_EVENT, source=self, collision=None))        \n",
    "\n",
    "        if(self.type == NafaireTypes.JOUEUR):\n",
    "            \n",
    "            for enemi in enemies:\n",
    "                if self.rect.colliderect(enemi.rect): \n",
    "                    pygame.event.post(pygame.event.Event(COLLISION_EVENT, source=self, collision=enemi))\n",
    "\n",
    "        elif(self.type == NafaireTypes.ENNEMI and self.rect.colliderect(Joueur.rect)): \n",
    "            pygame.event.post(pygame.event.Event(COLLISION_EVENT, source=self, collision=Joueur))\n",
    "\n",
    "        elif(self.type == NafaireTypes.BALLE):\n",
    "            \n",
    "            for enemi in enemies:\n",
    "                \n",
    "                if self.rect.colliderect(enemi.rect): \n",
    "                    pygame.event.post(pygame.event.Event(COLLISION_EVENT, source=self, collision=enemi))\n",
    "                    break\n"
   ]
  },
  {
   "source": [
    "Les collisions détectées sont ensuite gérés dans la boucle principale du jeu (grâce au évenements) en fonction des types des deux entités impliqués dans la collision."
   ],
   "cell_type": "markdown",
   "metadata": {}
  },
  {
   "cell_type": "code",
   "execution_count": null,
   "metadata": {},
   "outputs": [],
   "source": [
    "while leJeuTourne:\n",
    "#...\n",
    "    for event in pygame.event.get():\n",
    "        \n",
    "        #...gestion d'autres évenements...\n",
    "        \n",
    "        elif event.type == COLLISION_EVENT:\n",
    "\n",
    "            if(event.collision == None):#collision avec la 'bordure du cadre'\n",
    "                #...               \n",
    "\n",
    "            elif(event.source.type == NafaireTypes.BALLE and event.collision.type == NafaireTypes.ENNEMI):#collision balle ennemi\n",
    "                #...\n",
    "\n",
    "            elif(event.source.type == NafaireTypes.ENNEMI and event.collision.type == NafaireTypes.JOUEUR) or (event.source.type == NafaireTypes.JOUEUR and event.collision.type == NafaireTypes.ENNEMI):#collision joueur ennemi\n",
    "                #..."
   ]
  },
  {
   "source": [
    "Si c'est une collision avec la parti non visible de la scène et que l'acteur est un `JOUEUR` ou un `ENNEMI` on remplace ses coordonnées génantes par celle du cadre de la scène. Si c'est une balle on la détruit car on n'en a plus besoins et qu'une quantité impotante de balles hors champs pourais gravement réduire les performances."
   ],
   "cell_type": "markdown",
   "metadata": {}
  },
  {
   "cell_type": "code",
   "execution_count": null,
   "metadata": {},
   "outputs": [],
   "source": [
    "#...\n",
    "elif event.type == COLLISION_EVENT:\n",
    "    \n",
    "    if(event.collision == None):#collision avec la 'bordure du cadre'\n",
    "        if(event.source.type == NafaireTypes.JOUEUR or event.source.type == NafaireTypes.ENNEMI):\n",
    "            ###corrige la position du joueur ou de l'ennemi pour qu'il ne sorte pas du cadre\n",
    "            if event.source.x < 0 : event.source.x = 0\n",
    "            if event.source.x > dimentions.x : event.source.x = dimentions.X\n",
    "            if event.source.y < 0 : event.source.y = 0\n",
    "            if event.source.y > dimentions.y : event.source.y = dimentions.y\n",
    "\n",
    "        elif(event.source.type == NafaireTypes.BALLE):\n",
    "            ###détruit les balles hors champs\n",
    "            if event.source in balleList:\n",
    "                balleList.remove(event.source)                \n"
   ]
  },
  {
   "source": [
    "Si c'est une collision entre une `BALLE` et un `ENNEMI` on supprime la balle pour qu'elle ne traverse pas les ennemies et fait prendre des dégats à l'ennemi ou on le supprime tout simplement. Puis on incrémente le score."
   ],
   "cell_type": "markdown",
   "metadata": {}
  },
  {
   "cell_type": "code",
   "execution_count": null,
   "metadata": {},
   "outputs": [],
   "source": [
    "elif(event.source.type == NafaireTypes.BALLE and event.collision.type == NafaireTypes.ENNEMI):#collision balle ennemi\n",
    "    if event.collision in enemies:\n",
    "        enemies.remove(event.collision)\n",
    "    if event.source in balleList:\n",
    "        balleList.remove(event.source)\n",
    "        score += 1"
   ]
  },
  {
   "source": [
    "On cherche une 'source' de collision de type `BALLE` ici car seul les `BALLE`s recherchent les collisions avec les ennemis\n",
    "\n",
    "La dernière collision traité est celle entre un `JOUEUR` et un `ENNEMI` peut importe le qui détecte la collision.\n",
    "On remet alors la 'source' de la collision à son ancienne position afin d'empêcher qu'ils se traversent et on met à jour son rectangle.\n",
    "\n",
    "Voici la partie complète de la gestion des collision dans la boucle pricipale:"
   ],
   "cell_type": "markdown",
   "metadata": {}
  },
  {
   "cell_type": "code",
   "execution_count": null,
   "metadata": {},
   "outputs": [],
   "source": [
    "#...\n",
    "for event in pygame.event.get():\n",
    "\n",
    "            #...gestion d'autres évenements...\n",
    "            \n",
    "            elif event.type == COLLISION_EVENT:\n",
    "\n",
    "                if(event.collision == None):#collision avec la 'bordure du cadre'\n",
    "                \n",
    "                    if(event.source.type == NafaireTypes.JOUEUR or event.source.type == NafaireTypes.ENNEMI):\n",
    "                        ###corrige la position du joueur ou de l'ennemi pour qu'il ne sorte pas du cadre\n",
    "                        if event.source.x < 0 : event.source.x = 0\n",
    "                        if event.source.x > dimentions.x : event.source.x = dimentions.X\n",
    "                        if event.source.y < 0 : event.source.y = 0\n",
    "                        if event.source.y > dimentions.y : event.source.y = dimentions.y\n",
    "\n",
    "                    elif(event.source.type == NafaireTypes.BALLE):\n",
    "                        ###détruit les balles hors champs\n",
    "                        if event.source in balleList:\n",
    "                            balleList.remove(event.source)                \n",
    "\n",
    "                elif(event.source.type == NafaireTypes.BALLE and event.collision.type == NafaireTypes.ENNEMI):#collision balle ennemi\n",
    "                    if event.collision in enemies:\n",
    "                        enemies.remove(event.collision)\n",
    "                    if event.source in balleList:\n",
    "                        balleList.remove(event.source)\n",
    "                    score += 1\n",
    "                \n",
    "                elif(event.source.type == NafaireTypes.ENNEMI and event.collision.type == NafaireTypes.JOUEUR) or (event.source.type == NafaireTypes.JOUEUR and event.collision.type == NafaireTypes.ENNEMI):#collision joueur ennemi\n",
    "                    event.source.x, event.source.y = event.source.anciennePos\n",
    "                    event.source.rect = event.source.animation[0].get_rect(center=(event.source.x, event.source.y))\n",
    "\n",
    "            #...gestion d'autres évenements..."
   ]
  },
  {
   "source": [
    "## Tires\n",
    "\n",
    " La fonctionalité de tire permet à l'utilisateur de faire apparaitre des balles qui se déplacent à partir du haut du personnage quand il clique ou reste appuyé sur espace.\n",
    " \n",
    " Elle est répartie sur plusieurs parties du code.\n",
    "\n",
    " \n",
    " Pour détecter les cliques et les entrés au clavier on utilise plusieurs évenement pygame:\n",
    " - `KEYDOWN`, qui permet de savoir quand une touche est enfoncée.\n",
    " - `KEYUP`, qui permet de savoir quand une touche est relaché.\n",
    " - `MOUSEBUTTONUP`, qui permet de savoir quand un clique est relaché.\n",
    "<br>\n",
    "\n",
    "Comme vu précedement dans la partie 'Tires' pour recevoir plusieurs évenement `KEYDOWN` à intervale régulier pendant qu'une touche reste enfoncée avec pygame on doit utiliser la fonction `pygame.key.set_repeat(`***délai*** (int)`,` ...`)` au début du programme.\n",
    "\n",
    "On crée une variable globale booléenne `peutTirer` et `tireParSecondes` qui servirons de verrou pour le 'fusil' avec l'évenement `DELAY_TIRE_EVENT`.\n",
    "On défini également la constante `LEFT_CLICK` qui servira a différencier un clique gauche d'un clique droit. Ainsi que la variable `keysDown` qui sera une liste de touches.\n",
    " \n",
    "On a aussi une variable `balleList` qui permettra d'itérer entre les objet 'balles' crées pour leurs déplacement et leurs interactions."
   ],
   "cell_type": "markdown",
   "metadata": {}
  },
  {
   "cell_type": "code",
   "execution_count": null,
   "metadata": {},
   "outputs": [],
   "source": [
    "    #...\n",
    "    tireParSecondes = 8\n",
    "    peutTirer = True\n",
    "    DELAY_TIRE_EVENT = pygame.USEREVENT + 2\n",
    "    #...\n",
    "    def main():  \n",
    "        #...\n",
    "        global balleList\n",
    "        #...\n",
    "        pygame.key.set_repeat(int(1000/fps))#permet d'avoir des evenements pour les touches qui restent appuyées, avec un délai pour éviter de bloquer le programme\n",
    "    \n",
    "        LEFT_CLICK = 1\n",
    "        keysDown = None\n",
    "\n",
    "        while leJeuTourne:\n",
    "\n",
    "            ###gestion des evenements:\n",
    "            for event in pygame.event.get():\n",
    "\n",
    "                #...gestion d'autres évenements...\n",
    "\n",
    "                elif event.type == pygame.KEYDOWN or event.type == pygame.KEYUP:\n",
    "                    #...\n",
    "                    \n",
    "                elif event.type == pygame.MOUSEBUTTONUP: # quand on clique avec la souris\n",
    "                    #...\n",
    "\n",
    "                #...gestion d'autres évenements..."
   ]
  },
  {
   "source": [
    "On utilise la fonction pygame `pygame.key.get_pressed()` qui retourne une liste des touches enfoncées au moment où elle est appelée. Cette liste sera utlisé au moment de l'affichage car on ne veut pas de tirs ou de déplacements constants qui bloquerai le programme et qui ne serai visibles qu'au moment du rafraichissement au final.\n",
    "\n",
    "On déplace chaque balles vers le haut au moment de l'affichage.\n",
    "\n",
    "La fonction `tire()` sera appelée si les bonne touches sont utilisées et seulement si `peutTirer` est `True` pour pouvoir controler la fréquence de tir."
   ],
   "cell_type": "markdown",
   "metadata": {}
  },
  {
   "cell_type": "code",
   "execution_count": null,
   "metadata": {},
   "outputs": [],
   "source": [
    "###gestion des evenements:\n",
    "for event in pygame.event.get():\n",
    "\n",
    "    #...gestion d'autres évenements...\n",
    "\n",
    "    elif event.type == pygame.KEYDOWN or event.type == pygame.KEYUP:\n",
    "        keysDown = pygame.key.get_pressed()\n",
    "\n",
    "        elif event.type == pygame.MOUSEBUTTONUP: #tire quand on clique avec la souris\n",
    "            if (event.button == LEFT_CLICK and peutTirer == True): \n",
    "                tire()\n",
    "    #...gestion d'autres évenements...\n",
    "\n",
    "    elif event.type == AFFICHAGE_TIMER_EVENT:\n",
    "            \n",
    "        if(keysDown != None):\n",
    "\n",
    "            #...gestion des touches de déplacement...\n",
    "\n",
    "            if (keysDown[pygame.K_SPACE] and peutTirer == True):\n",
    "                tire()           \n",
    "                \n",
    "            keysDown = None\n",
    "            \n",
    "            #...\n",
    "        \n",
    "        for b in balleList:\n",
    "            b.deplacement(0, -1)\n",
    "\n",
    "        #...\n",
    "\n",
    "        Affichage()"
   ]
  },
  {
   "source": [
    "La fonction tire lancée, elle verouillera le tir avec `peutTirer = False` et créera un objet `Nafaire` de type `BALLE` en haut du personnage avec une vitesse choisie.\n",
    "Cet objet est ajouté à une liste qui sera utilisé pour déplacer les balles au moment du rafraîchissement.\n",
    "\n",
    "On appelle ensuite la fonction `pygame.time.set_timer(`***identifiant*** (int)`,` ***délai*** (int)`,` optionel: ***une_fois***=False`)` (voir: Timers) comme vu précedement mais avec l'argument `once=True`.\n",
    "\n",
    "Cela nous permet de déclanché un évennement `DELAY_TIRE_EVENT` au bout d'un délai seulement une seul fois."
   ],
   "cell_type": "markdown",
   "metadata": {}
  },
  {
   "cell_type": "code",
   "execution_count": null,
   "metadata": {},
   "outputs": [],
   "source": [
    "def tire():\n",
    "    global peutTirer\n",
    "    peutTirer = False\n",
    "    balle = Nafaire([Joueur.rect.centerx + 4, Joueur.rect.top - 22], balleImg, type=NafaireTypes.BALLE, vitesseY=8)\n",
    "    balleList.append(balle)\n",
    "\n",
    "    pygame.time.set_timer(DELAY_TIRE_EVENT, int(1000/tireParSecondes), True)\n"
   ]
  },
  {
   "source": [
    "Dans la gestions des évenements on traite `DELAY_TIRE_EVENT` par une affectation `True` à la variable `peutTirer` afin 'd'enlever le verrou'."
   ],
   "cell_type": "markdown",
   "metadata": {}
  },
  {
   "cell_type": "code",
   "execution_count": null,
   "metadata": {},
   "outputs": [],
   "source": [
    "###gestion des evenements:\n",
    "        for event in pygame.event.get():\n",
    "\n",
    "            #...gestion d'autres évenements...\n",
    "\n",
    "            elif event.type == DELAY_TIRE_EVENT:\n",
    "                peutTirer = True\n",
    "\n",
    "            #...gestion d'autres évenements..."
   ]
  }
 ]
}