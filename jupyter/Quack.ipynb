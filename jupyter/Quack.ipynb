{
 "metadata": {
  "language_info": {
   "codemirror_mode": {
    "name": "ipython",
    "version": 3
   },
   "file_extension": ".py",
   "mimetype": "text/x-python",
   "name": "python",
   "nbconvert_exporter": "python",
   "pygments_lexer": "ipython3",
   "version": "3.7.8-final"
  },
  "orig_nbformat": 2,
  "kernelspec": {
   "name": "python3",
   "display_name": "Python 3.7.8 64-bit",
   "metadata": {
    "interpreter": {
     "hash": "57baa5815c940fdaff4d14510622de9616cae602444507ba5d0b6727c008cbd6"
    }
   }
  }
 },
 "nbformat": 4,
 "nbformat_minor": 2,
 "cells": [
  {
   "source": [
    "# <center>TITRE - Projet Python</center>\n",
    "\n",
    "## Membres:\n",
    "* Corentin Drezen - 40007337, TD2\n",
    "* Nathanael NOM - N°ETUDIANT, TD1\n",
    "* Irfane NOM - N°ETUDIANT, TD2\n",
    "\n",
    "## Introduction:\n",
    "On souhaite réaliser un jeu du sytle <i>shoot them up</i> en 2D à l'aide du module $\\color{#B267E6}{\\text{pygame}}$ avec le personnage principal qui suit la souris\n",
    "\n",
    "<img src=\"SpaceInvaders-Gameplay.gif\">\n"
   ],
   "cell_type": "markdown",
   "metadata": {}
  }
 ]
}