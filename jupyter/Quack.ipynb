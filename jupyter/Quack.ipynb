{
 "metadata": {
  "language_info": {
   "codemirror_mode": {
    "name": "ipython",
    "version": 3
   },
   "file_extension": ".py",
   "mimetype": "text/x-python",
   "name": "python",
   "nbconvert_exporter": "python",
   "pygments_lexer": "ipython3",
   "version": "3.7.8-final"
  },
  "orig_nbformat": 2,
  "kernelspec": {
   "name": "python3",
   "display_name": "Python 3.7.8 64-bit",
   "metadata": {
    "interpreter": {
     "hash": "57baa5815c940fdaff4d14510622de9616cae602444507ba5d0b6727c008cbd6"
    }
   }
  }
 },
 "nbformat": 4,
 "nbformat_minor": 2,
 "cells": [
  {
   "source": [
    "# <center>TITRE - Projet Python</center>\n",
    "\n",
    "## Membres:\n",
    "* Corentin Drezen - 40007337, TD2\n",
    "* Nathanael NOM - N°ETUDIANT, TD1\n",
    "* Irfane NOM - N°ETUDIANT, TD2\n",
    "\n",
    "## Introduction:\n",
    "On souhaite réaliser un jeu du sytle <i>shoot them up</i> en 2D à l'aide du module $\\color{#B267E6}{\\text{pygame}}$ avec le personnage principal qui suit la souris\n",
    "\n",
    "<img src=\"SpaceInvaders-Gameplay.gif\">\n"
   ],
   "cell_type": "markdown",
   "metadata": {}
  },
  {
   "cell_type": "code",
   "execution_count": null,
   "metadata": {},
   "outputs": [],
   "source": [
    "import pygame"
   ]
  },
  {
   "source": [
    "## Timers\n",
    "Le jeu a besoin de gérer plusieurs delais afin de réaliser le rendu graphique et certaines mécaniques.\n",
    "\n",
    "Les jeux pygame fonctionent avec une boucle `while` 'infinie' car le systeme d'évenements est uniquement utilisable avec une fonction `pygame.event.get()` qui retourne une liste d'évenements."
   ],
   "cell_type": "markdown",
   "metadata": {}
  },
  {
   "cell_type": "code",
   "execution_count": null,
   "metadata": {},
   "outputs": [],
   "source": [
    "def main():\n",
    "    #...\n",
    "    while leJeuTourne:\n",
    "        #...\n",
    "        for event in pygame.event.get():\n",
    "            #..."
   ]
  },
  {
   "source": [
    "Le programme va s'éxécuter aussi vite qu'il peut mais un écran ne peut afficher que 60 à 144 images/secondes aujourd'hui et les appels au fonctions graphique incéssantes pouraient ralentir le jeu. Donc on a besoin d'un délai mais on ne veut pas bloquer le programme.\n",
    "\n",
    "Alors on utilise les timers intégrés dans le module pygame qui fonctionent en parallèle et peuvents être utilisé avec son sytème d'évenements\n",
    "\n",
    "<br>\n",
    "On commence par définir les identifiants de nos propres évenements:"
   ],
   "cell_type": "markdown",
   "metadata": {}
  },
  {
   "cell_type": "code",
   "execution_count": null,
   "metadata": {},
   "outputs": [],
   "source": [
    "AFFICHAGE_TIMER_EVENT = pygame.USEREVENT + 0 #évenement pour l'affichage\n",
    "DELAY_TIRE_EVENT = pygame.USEREVENT + 2 #évenement pour avoir un délai entre chaque tir du personnage\n",
    "SPAWN_TIMER_EVENT = pygame.USEREVENT + 3 #évenment pour l'apparition des ennemis"
   ]
  },
  {
   "source": [
    "D'après le wiki il faut que ce soit des `int` compris entre `pygame.USEREVENT` (=24) et `pygame.NUMEVENTS - 1` (=32). - *\"User defined events should have a value in the inclusive range of USEREVENT to NUMEVENTS - 1. It is recommended all user events follow this system.\"*\n",
    "\n",
    "On doit ensuite appeler `pygame.time.set_timer(`***identifiant*** (int)`,` ***délai*** (int)`,` optionel: ***une_fois***=False`)` là où on souhaite lancer le timer. Elle déclanchera un évenement après chaque 'pauses'."
   ],
   "cell_type": "markdown",
   "metadata": {}
  },
  {
   "cell_type": "code",
   "execution_count": null,
   "metadata": {},
   "outputs": [],
   "source": [
    "def main():\n",
    "    #...\n",
    "    pygame.time.set_timer(AFFICHAGE_TIMER_EVENT, int(1000/fps)) "
   ]
  },
  {
   "source": [
    "Ici on utlise `int(1000/`**fps**`)` comme valeur pour le délai afin d'avoir une valeur relative à 'fps' (pour frames par secondes). Si 'fps' est égal à 60 on obtient 60 évenements `AFFICHAGE_TIMER_EVENT` par secondes: 1 toutes les ~17 ms.\n",
    "\n",
    "Dans la boucle qui itère parmis tout les évenements on 'filtre' notre `AFFICHAGE_TIMER_EVENT` et on peut ainsi appelé notre fonction d'affichage/dessin/'peinture' à intervale régulier."
   ],
   "cell_type": "markdown",
   "metadata": {}
  },
  {
   "cell_type": "code",
   "execution_count": null,
   "metadata": {},
   "outputs": [],
   "source": [
    "#...\n",
    "while leJeuTourne:\n",
    "    #...\n",
    "    for event in pygame.event.get():\n",
    "        \n",
    "        if event.type == AFFICHAGE_TIMER_EVENT:\n",
    "            #...changer quelque chose juste avant le rafraichisement..\n",
    "            Affichage()"
   ]
  },
  {
   "source": [
    "## Affichage"
   ],
   "cell_type": "markdown",
   "metadata": {}
  },
  {
   "source": [
    "## Déplacements\n",
    "\n",
    "Les déplacements des acteurs du jeu son gérés dans leur `class` (Nafaire) avec la fonction `déplacement(`***x*** (int)`,` ***y*** (int)`)`.\n",
    "\n",
    "`class` Nafaire:\n"
   ],
   "cell_type": "markdown",
   "metadata": {}
  },
  {
   "cell_type": "code",
   "execution_count": null,
   "metadata": {},
   "outputs": [],
   "source": [
    "class Nafaire:\n",
    "    def __init__(self, position=(0,0), animation=None, (...) , vitesseX=0.1, vitesseY=0.1, rect=None):\n",
    "        \n",
    "        self.x , self.y = position\n",
    "        self.anciennePos = position\n",
    "        self.animation = animation\n",
    "        #...   \n",
    "        self.vitesseX = vitesseX\n",
    "        self.vitesseY = vitesseY    \n",
    "        #...\n",
    "\n",
    "    def deplacement(self, x, y):\n",
    "        #...\n",
    "\n",
    "    def detectCollisions(self):\n",
    "        #..."
   ]
  },
  {
   "source": [
    "Cette `class` a plusieurs propriétés et arguments:\n",
    "- `position` (tuple), de simples coordonées dans la fenêtre du jeu. Elles sont ensuite distribuées dans les propriétés ***x*** et ***y***\n",
    "- `anciennePos` (tuple), elle sert à garder l'ancienne position en mémoire après un déplacement. Elle a la même valeur que `position` à l'initialisation de l'objet.\n",
    "- `vitesseX` (float) et `vitesseY` (float), ce ne sont pas vraiment des vitesses de physique '*v = d/t*' mais des multiplicateurs qui permettent un déplacement plus ou moins conséquents.\n",
    "- `rect` (pygame.Rect), un type d'objet qui sert a dessiner une image rectangulaire avec les propriétés comme ***haut***, ***bas***, ***gauche***, ***droite*** ou encore ***centre*** avec pygame.\n",
    "- `animation` (list), une liste de pygame.Surface (images), chaque frames d'animation de l'acteur. Leurs dimentions doivent être constantes.\n",
    "\n",
    "Ces valeurs sont utilisées dans la fonction `déplacement(`***x*** (int)`,` ***y*** (int)`)`:"
   ],
   "cell_type": "markdown",
   "metadata": {}
  },
  {
   "cell_type": "code",
   "execution_count": null,
   "metadata": {},
   "outputs": [],
   "source": [
    "def deplacement(self, x, y):\n",
    "        self.anciennePos = (self.x, self.y)\n",
    "        self.x += x * self.vitesseX\n",
    "        self.y += y * self.vitesseY\n",
    "        self.rect = self.animation[0].get_rect(center=(self.x, self.y))\n",
    "\n",
    "        self.detectCollisions()"
   ]
  },
  {
   "source": [
    "A chaque fois que la fonction est appelée les arguments ***x*** et ***y***, qui peuvent avoir des valeurs négatives, sont multipliés par leurs 'vitesses' respectives puis ajoutés aux propriétés ***self.x*** et ***self.y***. Ce qui donne l'illusion de mouvement car cette fonction est appelée très régulièrement et met à jour les valeurs utilisées par la fonction d'affichage. \n",
    "\n",
    "La propriété ***rect*** est mis à jour avec la fonction `get_rect()` de l'objet `pygame.Surface` (image dans pygame). C'est elle qui servira à placer l'acteur lors de l'affichage car ce type d'objet est plus pratique que de simples coordonnées. Sa propriété ***centre*** permettra de placer l'acteur sur un point à partir de son centre facilement au lieu le placer à partir de son 'haut gauche'.\n",
    "\n",
    "L'ancienne position est conservé lors du déplacement car elle servira à gérer les collisions.\n",
    "\n",
    "La fonction `.detectCollisions()` qui sert a trouver des collisions est appelée ici car c'est seulement après un déplacement qu'il peut y avoir une collisions avec un autre acteur."
   ],
   "cell_type": "markdown",
   "metadata": {}
  },
  {
   "source": [
    "## Colisions\n",
    "Afin d'empécher que les acteurs du jeu se traversent et que le joueur puisse sortir de la scène il faut un système de collision.\n",
    "\n",
    "pygame ne gère pas les collisions mais le type `pygame.Rect` possède une fonction `.colliderect(`***rect*** (pygame.Rect)`)` qui permet de savoir si un rectangle est en parti ou entièrement dans un autre rectangle."
   ],
   "cell_type": "markdown",
   "metadata": {}
  },
  {
   "cell_type": "code",
   "execution_count": null,
   "metadata": {},
   "outputs": [],
   "source": [
    "def detectCollisions(self):\n",
    "\n",
    "        if(self.x < 0 or self.x > dimentions.x or self.y < 0 or self.y > dimentions.y): \n",
    "            pygame.event.post(pygame.event.Event(COLLISION_EVENT, source=self, collision=None))        \n",
    "\n",
    "        if(self.type == NafaireTypes.JOUEUR):\n",
    "            \n",
    "            for enemi in enemies:\n",
    "                if self.rect.colliderect(enemi.rect): \n",
    "                    pygame.event.post(pygame.event.Event(COLLISION_EVENT, source=self, collision=enemi))\n",
    "\n",
    "        elif(self.type == NafaireTypes.ENNEMI and self.rect.colliderect(Joueur.rect)): \n",
    "            pygame.event.post(pygame.event.Event(COLLISION_EVENT, source=self, collision=Joueur))\n",
    "\n",
    "        elif(self.type == NafaireTypes.BALLE):\n",
    "            \n",
    "            for enemi in enemies:\n",
    "                \n",
    "                if self.rect.colliderect(enemi.rect): \n",
    "                    pygame.event.post(pygame.event.Event(COLLISION_EVENT, source=self, collision=enemi))\n",
    "                    break\n",
    "\n",
    "        elif(self.type == NafaireTypes.BALLE_ENNEMI and self.rect.colliderect(Joueur.rect)): \n",
    "            pygame.event.post(pygame.event.Event(COLLISION_EVENT, source=self, collision=Joueur))\n"
   ]
  },
  {
   "source": [],
   "cell_type": "markdown",
   "metadata": {}
  },
  {
   "cell_type": "code",
   "execution_count": null,
   "metadata": {},
   "outputs": [],
   "source": [
    "#...\n",
    "for event in pygame.event.get():\n",
    "\n",
    "            #...gestion d'autres évenements...\n",
    "            \n",
    "            elif event.type == COLLISION_EVENT:\n",
    "\n",
    "                if(event.collision == None):#collision avec la 'bordure du cadre'\n",
    "                \n",
    "                    if(event.source.type == NafaireTypes.JOUEUR or event.source.type == NafaireTypes.ENNEMI):\n",
    "                        ###corrige la position du joueur ou de l'ennemi pour qu'il ne sorte pas du cadre\n",
    "                        if event.source.x < 0 : event.source.x = 0\n",
    "                        if event.source.x > dimentions.x : event.source.x = dimentions.X\n",
    "                        if event.source.y < 0 : event.source.y = 0\n",
    "                        if event.source.y > dimentions.y : event.source.y = dimentions.y\n",
    "\n",
    "                    elif(event.source.type == NafaireTypes.BALLE):\n",
    "                        ###détruit les balles hors champs\n",
    "                        if event.source in balleList:\n",
    "                            balleList.remove(event.source)                \n",
    "\n",
    "                elif(event.source.type == NafaireTypes.BALLE and event.collision.type == NafaireTypes.ENNEMI):#collision balle ennemi\n",
    "                    if event.collision in enemies:\n",
    "                        enemies.remove(event.collision)\n",
    "                    if event.source in balleList:\n",
    "                        balleList.remove(event.source)\n",
    "                    score += 1\n",
    "                \n",
    "                elif(event.source.type == NafaireTypes.ENNEMI and event.collision.type == NafaireTypes.JOUEUR) or (event.source.type == NafaireTypes.JOUEUR and event.collision.type == NafaireTypes.ENNEMI):#collision joueur ennemi\n",
    "                    event.source.x, event.source.y = event.source.anciennePos\n",
    "                    event.source.rect = event.source.animation[0].get_rect(center=(event.source.x, event.source.y))"
   ]
  },
  {
   "source": [
    "## Tires"
   ],
   "cell_type": "markdown",
   "metadata": {}
  },
  {
   "cell_type": "code",
   "execution_count": null,
   "metadata": {},
   "outputs": [],
   "source": [
    "def tire():\n",
    "    global peutTirer\n",
    "    peutTirer = False\n",
    "    balle = Nafaire([Joueur.rect.centerx + 4, Joueur.rect.top - 22], balleImg, type=NafaireTypes.BALLE, vitesseY=8)\n",
    "    balleList.append(balle)\n",
    "\n",
    "    pygame.time.set_timer(DELAY_TIRE_EVENT, int(1000/tireParSecondes), True)\n"
   ]
  }
 ]
}